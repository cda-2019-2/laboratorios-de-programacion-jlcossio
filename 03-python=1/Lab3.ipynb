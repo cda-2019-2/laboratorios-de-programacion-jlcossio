{
 "cells": [
  {
   "cell_type": "code",
   "execution_count": 108,
   "metadata": {},
   "outputs": [],
   "source": [
    "import pandas\n",
    "import os\n",
    "import re\n",
    "os.chdir(\"/app/Laboratorios/03-python=1/\")"
   ]
  },
  {
   "cell_type": "code",
   "execution_count": 3,
   "metadata": {},
   "outputs": [],
   "source": [
    "os.chdir(\"/app/Laboratorios/03-python=1/\")"
   ]
  },
  {
   "cell_type": "code",
   "execution_count": 4,
   "metadata": {},
   "outputs": [
    {
     "data": {
      "text/html": [
       "<div>\n",
       "<style scoped>\n",
       "    .dataframe tbody tr th:only-of-type {\n",
       "        vertical-align: middle;\n",
       "    }\n",
       "\n",
       "    .dataframe tbody tr th {\n",
       "        vertical-align: top;\n",
       "    }\n",
       "\n",
       "    .dataframe thead th {\n",
       "        text-align: right;\n",
       "    }\n",
       "</style>\n",
       "<table border=\"1\" class=\"dataframe\">\n",
       "  <thead>\n",
       "    <tr style=\"text-align: right;\">\n",
       "      <th></th>\n",
       "      <th>0</th>\n",
       "      <th>1</th>\n",
       "      <th>2</th>\n",
       "      <th>3</th>\n",
       "      <th>4</th>\n",
       "    </tr>\n",
       "  </thead>\n",
       "  <tbody>\n",
       "    <tr>\n",
       "      <th>0</th>\n",
       "      <td>E</td>\n",
       "      <td>1</td>\n",
       "      <td>1999-02-28</td>\n",
       "      <td>b,g,f</td>\n",
       "      <td>jjj:3,bbb:0,ddd:9,ggg:8,hhh:2</td>\n",
       "    </tr>\n",
       "    <tr>\n",
       "      <th>1</th>\n",
       "      <td>A</td>\n",
       "      <td>2</td>\n",
       "      <td>1999-10-28</td>\n",
       "      <td>a,f,c</td>\n",
       "      <td>ccc:2,ddd:0,aaa:3,hhh:9</td>\n",
       "    </tr>\n",
       "    <tr>\n",
       "      <th>2</th>\n",
       "      <td>B</td>\n",
       "      <td>5</td>\n",
       "      <td>1998-05-02</td>\n",
       "      <td>f,e,a,c</td>\n",
       "      <td>ddd:2,ggg:5,ccc:6,jjj:1</td>\n",
       "    </tr>\n",
       "    <tr>\n",
       "      <th>3</th>\n",
       "      <td>A</td>\n",
       "      <td>3</td>\n",
       "      <td>1999-08-28</td>\n",
       "      <td>a,b</td>\n",
       "      <td>hhh:9,iii:5,eee:7,bbb:1</td>\n",
       "    </tr>\n",
       "    <tr>\n",
       "      <th>4</th>\n",
       "      <td>C</td>\n",
       "      <td>6</td>\n",
       "      <td>1999-12-01</td>\n",
       "      <td>f,g,d,a</td>\n",
       "      <td>iii:6,ddd:5,eee:4,jjj:3</td>\n",
       "    </tr>\n",
       "  </tbody>\n",
       "</table>\n",
       "</div>"
      ],
      "text/plain": [
       "   0  1           2        3                              4\n",
       "0  E  1  1999-02-28    b,g,f  jjj:3,bbb:0,ddd:9,ggg:8,hhh:2\n",
       "1  A  2  1999-10-28    a,f,c        ccc:2,ddd:0,aaa:3,hhh:9\n",
       "2  B  5  1998-05-02  f,e,a,c        ddd:2,ggg:5,ccc:6,jjj:1\n",
       "3  A  3  1999-08-28      a,b        hhh:9,iii:5,eee:7,bbb:1\n",
       "4  C  6  1999-12-01  f,g,d,a        iii:6,ddd:5,eee:4,jjj:3"
      ]
     },
     "execution_count": 4,
     "metadata": {},
     "output_type": "execute_result"
    }
   ],
   "source": [
    "datos = pandas.read_csv(\"./q01=1/data.csv\", sep=\"\\t\", header=None)\n",
    "datos.head()"
   ]
  },
  {
   "cell_type": "code",
   "execution_count": null,
   "metadata": {},
   "outputs": [],
   "source": [
    "################## question 1"
   ]
  },
  {
   "cell_type": "code",
   "execution_count": 78,
   "metadata": {},
   "outputs": [
    {
     "data": {
      "text/plain": [
       "190"
      ]
     },
     "execution_count": 78,
     "metadata": {},
     "output_type": "execute_result"
    }
   ],
   "source": [
    "datos = pandas.read_csv(\"./q01=1/data.csv\", sep=\"\\t\", header=None)\n",
    "datos[1].sum()"
   ]
  },
  {
   "cell_type": "code",
   "execution_count": null,
   "metadata": {},
   "outputs": [],
   "source": [
    "################## question 2"
   ]
  },
  {
   "cell_type": "code",
   "execution_count": 148,
   "metadata": {},
   "outputs": [
    {
     "name": "stdout",
     "output_type": "stream",
     "text": [
      "A,8\n",
      "B,7\n",
      "C,5\n",
      "D,6\n",
      "E,14\n"
     ]
    }
   ],
   "source": [
    "datos = pandas.read_csv(\"./q01=1/data.csv\", sep=\"\\t\", header=None)\n",
    "letras = datos[0].value_counts().sort_index()\n",
    "for k, v in letras.items():\n",
    "    print(str(k)+\",\"+str(v))"
   ]
  },
  {
   "cell_type": "code",
   "execution_count": null,
   "metadata": {},
   "outputs": [],
   "source": [
    "################## question 3"
   ]
  },
  {
   "cell_type": "code",
   "execution_count": 210,
   "metadata": {},
   "outputs": [
    {
     "name": "stdout",
     "output_type": "stream",
     "text": [
      "A,37\n",
      "B,36\n",
      "C,27\n",
      "D,23\n",
      "E,67\n"
     ]
    }
   ],
   "source": [
    "datos = pandas.read_csv(\"./q01=1/data.csv\", sep=\"\\t\", header=None)\n",
    "letras = datos.groupby([datos[0]]).sum()\n",
    "indice = list(letras.index)\n",
    "letras = letras.values.tolist()\n",
    "for i in range(5):\n",
    "    print(str(indice[i])+\",\"+str(letras[i])[1:3])"
   ]
  },
  {
   "cell_type": "code",
   "execution_count": 211,
   "metadata": {},
   "outputs": [],
   "source": [
    "################## question 4"
   ]
  },
  {
   "cell_type": "code",
   "execution_count": 222,
   "metadata": {},
   "outputs": [
    {
     "name": "stdout",
     "output_type": "stream",
     "text": [
      "01,3\n",
      "02,4\n",
      "03,2\n",
      "04,4\n",
      "05,3\n",
      "06,3\n",
      "07,5\n",
      "08,6\n",
      "09,3\n",
      "10,2\n",
      "11,2\n",
      "12,3\n"
     ]
    }
   ],
   "source": [
    "datos = pandas.read_csv(\"./q01=1/data.csv\", sep=\"\\t\", header=None)\n",
    "fechas = datos[2].str.split('-',expand=True)\n",
    "meses = fechas[1].value_counts().sort_index()\n",
    "for k, v in meses.items():\n",
    "    print(str(k)+\",\"+str(v))"
   ]
  },
  {
   "cell_type": "code",
   "execution_count": null,
   "metadata": {},
   "outputs": [],
   "source": [
    "################## question 5"
   ]
  },
  {
   "cell_type": "code",
   "execution_count": 279,
   "metadata": {},
   "outputs": [
    {
     "name": "stdout",
     "output_type": "stream",
     "text": [
      "A,9,1\n",
      "B,9,1\n",
      "C,9,0\n",
      "D,7,1\n",
      "E,9,1\n"
     ]
    }
   ],
   "source": [
    "datos = pandas.read_csv(\"./q01=1/data.csv\", sep=\"\\t\", header=None)\n",
    "letras_max = datos.groupby([datos[0]]).max()\n",
    "indice = list(letras_max.index)\n",
    "letras_max = letras_max.values.tolist()\n",
    "letras_min = datos.groupby([datos[0]]).min()\n",
    "letras_min = letras_min.values.tolist()\n",
    "for i in range(5):\n",
    "    print(str(indice[i])+\",\"+str(letras_max[i])[1:2]+\",\"+str(letras_min[i])[1:2])"
   ]
  },
  {
   "cell_type": "code",
   "execution_count": null,
   "metadata": {},
   "outputs": [],
   "source": [
    "################## question 6"
   ]
  },
  {
   "cell_type": "code",
   "execution_count": 17,
   "metadata": {},
   "outputs": [
    {
     "name": "stdout",
     "output_type": "stream",
     "text": [
      "aaa,0,9\n",
      "bbb,0,9\n",
      "ccc,0,9\n",
      "ddd,0,9\n",
      "eee,0,7\n",
      "fff,0,9\n",
      "ggg,0,9\n",
      "hhh,0,9\n",
      "iii,0,9\n",
      "jjj,0,9\n"
     ]
    }
   ],
   "source": [
    "datos = pandas.read_csv(\"./q01=1/data.csv\", sep=\"\\t\", header=None)\n",
    "diccionario = datos[4].str.split(',',expand=True)\n",
    "intermedio = diccionario[0].append(diccionario[1]).reset_index(drop=True)\n",
    "intermedio = intermedio.to_frame()\n",
    "for i in range(4):\n",
    "    intermedio = intermedio[0].append(diccionario[i+2]).reset_index(drop=True)\n",
    "    intermedio = intermedio.to_frame()\n",
    "diccionario = intermedio\n",
    "len(intermedio)\n",
    "diccionario = diccionario.dropna()\n",
    "diccionario = diccionario[0].str.split(':',expand=True)\n",
    "letras_max = diccionario.groupby([diccionario[0]]).max()\n",
    "indice = list(letras_max.index)\n",
    "letras_max = letras_max.values.tolist()\n",
    "letras_min = diccionario.groupby([diccionario[0]]).min()\n",
    "letras_min = letras_min.values.tolist()\n",
    "for i in range(10):\n",
    "    print(str(indice[i])+\",\"+str(letras_min[i])[2:3]+\",\"+str(letras_max[i])[2:3])"
   ]
  },
  {
   "cell_type": "code",
   "execution_count": null,
   "metadata": {},
   "outputs": [],
   "source": [
    "################## question 7"
   ]
  },
  {
   "cell_type": "code",
   "execution_count": 95,
   "metadata": {},
   "outputs": [
    {
     "name": "stdout",
     "output_type": "stream",
     "text": [
      "('0', ['C'])\n",
      "('1', ['E', 'B', 'D', 'A', 'A', 'E'])\n",
      "('2', ['A', 'E', 'D'])\n",
      "('3', ['A', 'B', 'D', 'E', 'E'])\n",
      "('4', ['E', 'B'])\n",
      "('5', ['B', 'C', 'D', 'D', 'E', 'E', 'E'])\n",
      "('6', ['C', 'E', 'A', 'B'])\n",
      "('7', ['A', 'C', 'E', 'D'])\n",
      "('8', ['E', 'E', 'A', 'B'])\n",
      "('9', ['A', 'B', 'E', 'C'])\n"
     ]
    }
   ],
   "source": [
    "datos = pandas.read_csv(\"./q01=1/data.csv\", sep=\"\\t\", header=None)\n",
    "numeros = pandas.unique(datos[1].values).tolist()\n",
    "numeros.sort()\n",
    "def asociadas(num_parametro):\n",
    "    temp = []\n",
    "    for i in list(range(0,len(datos[1]))):\n",
    "        if datos.iloc[i, 1] == num_parametro:\n",
    "            temp.append(datos.iloc[i, 0])\n",
    "    return(temp)\n",
    "letras = [asociadas(j) for j in numeros]\n",
    "tupla = [(str(numeros[i]), letras[i]) for i in list(range(0,len(numeros)))]\n",
    "for i in list(range(0,len(tupla))):\n",
    "    print(tupla[i])"
   ]
  },
  {
   "cell_type": "code",
   "execution_count": null,
   "metadata": {},
   "outputs": [],
   "source": [
    "################## question 8"
   ]
  },
  {
   "cell_type": "code",
   "execution_count": 6,
   "metadata": {},
   "outputs": [
    {
     "name": "stdout",
     "output_type": "stream",
     "text": [
      "('0', ['C'])\n",
      "('1', ['A', 'B', 'D', 'E'])\n",
      "('2', ['A', 'D', 'E'])\n",
      "('3', ['A', 'B', 'D', 'E'])\n",
      "('4', ['B', 'E'])\n",
      "('5', ['B', 'C', 'D', 'E'])\n",
      "('6', ['A', 'B', 'C', 'E'])\n",
      "('7', ['A', 'C', 'D', 'E'])\n",
      "('8', ['A', 'B', 'E'])\n",
      "('9', ['A', 'B', 'C', 'E'])\n"
     ]
    }
   ],
   "source": [
    "datos = pandas.read_csv(\"./q01=1/data.csv\", sep=\"\\t\", header=None)\n",
    "numeros = pandas.unique(datos[1].values).tolist()\n",
    "numeros.sort()\n",
    "def asociadas(num_parametro):\n",
    "    temp = []\n",
    "    for i in list(range(0,len(datos[1]))):\n",
    "        if datos.iloc[i, 1] == num_parametro:\n",
    "            temp.append(datos.iloc[i, 0])\n",
    "    return(temp)\n",
    "letras = [asociadas(j) for j in numeros]\n",
    "def uni_sort(pos_parametro):\n",
    "    temp = pandas.unique(letras[pos_parametro]).tolist()\n",
    "    temp.sort()\n",
    "    return(temp)\n",
    "letras = [uni_sort(i) for i in list(range(0,len(letras)))]\n",
    "tupla = [(str(numeros[i]), letras[i]) for i in list(range(0,len(numeros)))]\n",
    "for i in list(range(0,len(tupla))):\n",
    "    print(tupla[i])"
   ]
  },
  {
   "cell_type": "code",
   "execution_count": null,
   "metadata": {},
   "outputs": [],
   "source": [
    "################## question 9"
   ]
  },
  {
   "cell_type": "code",
   "execution_count": 22,
   "metadata": {},
   "outputs": [
    {
     "name": "stdout",
     "output_type": "stream",
     "text": [
      "aaa,13\n",
      "bbb,16\n",
      "ccc,23\n",
      "ddd,23\n",
      "eee,15\n",
      "fff,20\n",
      "ggg,13\n",
      "hhh,16\n",
      "iii,18\n",
      "jjj,18\n"
     ]
    }
   ],
   "source": [
    "datos = pandas.read_csv(\"./q01=1/data.csv\", sep=\"\\t\", header=None)\n",
    "diccionario = datos[4].str.split(',',expand=True)\n",
    "intermedio = diccionario[0].append(diccionario[1]).reset_index(drop=True)\n",
    "intermedio = intermedio.to_frame()\n",
    "for i in range(4):\n",
    "    intermedio = intermedio[0].append(diccionario[i+2]).reset_index(drop=True)\n",
    "    intermedio = intermedio.to_frame()\n",
    "diccionario = intermedio\n",
    "len(intermedio)\n",
    "diccionario = diccionario.dropna()\n",
    "diccionario = diccionario[0].str.split(':',expand=True)\n",
    "clave = diccionario[0].value_counts().sort_index()\n",
    "for index, value in clave.items():\n",
    "    print(str(index)+\",\"+str(value))"
   ]
  },
  {
   "cell_type": "code",
   "execution_count": null,
   "metadata": {},
   "outputs": [],
   "source": [
    "################## question 10"
   ]
  },
  {
   "cell_type": "code",
   "execution_count": 33,
   "metadata": {},
   "outputs": [
    {
     "name": "stdout",
     "output_type": "stream",
     "text": [
      "E,3,5\n",
      "A,3,4\n",
      "B,4,4\n",
      "A,2,4\n",
      "C,4,4\n",
      "A,2,5\n",
      "A,3,6\n",
      "B,2,3\n",
      "E,4,6\n",
      "B,4,6\n",
      "C,4,5\n",
      "C,4,3\n",
      "D,4,5\n",
      "E,2,3\n",
      "B,2,5\n",
      "D,2,4\n",
      "E,3,6\n",
      "D,2,3\n",
      "E,4,3\n",
      "E,2,3\n",
      "E,2,3\n",
      "E,3,3\n",
      "D,3,3\n",
      "A,3,5\n",
      "E,2,6\n",
      "E,3,6\n",
      "A,3,3\n",
      "E,3,5\n",
      "A,2,5\n",
      "C,4,6\n",
      "A,2,5\n",
      "D,2,6\n",
      "E,2,4\n",
      "B,3,6\n",
      "B,3,5\n",
      "D,2,3\n",
      "B,2,5\n",
      "C,4,3\n",
      "E,2,3\n",
      "E,3,3\n"
     ]
    }
   ],
   "source": [
    "datos = pandas.read_csv(\"./q01=1/data.csv\", sep=\"\\t\", header=None)\n",
    "diccionario = datos[4].str.split(',',expand=False)\n",
    "otra = datos[3].str.split(',',expand=False)\n",
    "for i in range(40):\n",
    "    print(str(datos.iloc[i,0])+\",\"+str(len(otra[i]))+\",\"+str(len(diccionario[i])))"
   ]
  },
  {
   "cell_type": "code",
   "execution_count": null,
   "metadata": {},
   "outputs": [],
   "source": [
    "################## question 11"
   ]
  },
  {
   "cell_type": "code",
   "execution_count": 76,
   "metadata": {},
   "outputs": [
    {
     "name": "stdout",
     "output_type": "stream",
     "text": [
      "a,114\n",
      "b,40\n",
      "c,91\n",
      "d,65\n",
      "e,79\n",
      "f,110\n",
      "g,35\n"
     ]
    }
   ],
   "source": [
    "datos = pandas.read_csv(\"./q01=1/data.csv\", sep=\"\\t\", header=None)\n",
    "letras = pandas.DataFrame(datos[3].str.split(',').tolist(),index=datos[1]).stack()\n",
    "letras = letras.reset_index([0, 1])\n",
    "resumen = letras.groupby([letras[0]]).sum()\n",
    "indice = list(resumen.index)\n",
    "for i in list(range(0,len(indice))):\n",
    "    print(str(indice[i])+\",\"+str(resumen.iloc[i,0]))"
   ]
  },
  {
   "cell_type": "code",
   "execution_count": null,
   "metadata": {},
   "outputs": [],
   "source": [
    "################## question 12"
   ]
  },
  {
   "cell_type": "code",
   "execution_count": 123,
   "metadata": {},
   "outputs": [
    {
     "name": "stdout",
     "output_type": "stream",
     "text": [
      "E,22\n",
      "A,14\n",
      "B,14\n",
      "A,22\n",
      "C,18\n",
      "A,14\n",
      "A,23\n",
      "B,6\n",
      "E,31\n",
      "B,30\n",
      "C,13\n",
      "C,22\n",
      "D,24\n",
      "E,14\n",
      "B,18\n",
      "D,18\n",
      "E,29\n",
      "D,18\n",
      "E,16\n",
      "E,13\n",
      "E,15\n",
      "E,20\n",
      "D,12\n",
      "A,20\n",
      "E,31\n",
      "E,21\n",
      "A,9\n",
      "E,25\n",
      "A,21\n",
      "C,20\n",
      "A,23\n",
      "D,32\n",
      "E,11\n",
      "B,24\n",
      "B,24\n",
      "D,8\n",
      "B,18\n",
      "C,8\n",
      "E,11\n",
      "E,16\n"
     ]
    }
   ],
   "source": [
    "datos = pandas.read_csv(\"./q01=1/data.csv\", sep=\"\\t\", header=None)\n",
    "datos['diccionario'] = datos[4].str.split(',')\n",
    "dumi = datos['diccionario'].apply(lambda x: sum([int(re.sub(r'.+:', '', i)) for i in x]))\n",
    "for i in list(range(0,len(datos[0]))):\n",
    "    print(str(datos.iloc[i,0])+\",\"+str(dumi[i]))"
   ]
  }
 ],
 "metadata": {
  "kernelspec": {
   "display_name": "Python 3",
   "language": "python",
   "name": "python3"
  },
  "language_info": {
   "codemirror_mode": {
    "name": "ipython",
    "version": 3
   },
   "file_extension": ".py",
   "mimetype": "text/x-python",
   "name": "python",
   "nbconvert_exporter": "python",
   "pygments_lexer": "ipython3",
   "version": "3.6.8"
  }
 },
 "nbformat": 4,
 "nbformat_minor": 4
}
